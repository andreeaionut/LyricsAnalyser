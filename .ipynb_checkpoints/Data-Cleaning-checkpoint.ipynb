{
 "cells": [
  {
   "cell_type": "markdown",
   "metadata": {},
   "source": [
    "Data gathering"
   ]
  },
  {
   "cell_type": "code",
   "execution_count": 70,
   "metadata": {
    "scrolled": false
   },
   "outputs": [
    {
     "name": "stdout",
     "output_type": "stream",
     "text": [
      "['The Beatles', 'The Rolling Stones', 'Elton John', 'Mariah Carey', 'Madonna', 'Michael Jackson', 'Taylor Swift', 'Stevie Wonder', 'Whitney Houston', 'Elvis Presley', 'Drake', 'Queen']\n"
     ]
    }
   ],
   "source": [
    "import pickle\n",
    "import pandas as pd\n",
    "\n",
    "def get_lyrics_from_file(file):\n",
    "    '''Returns all the lyrics from a given file.'''\n",
    "    file_object  = open(file, 'r')\n",
    "    lyrics = file_object.read()\n",
    "    return lyrics\n",
    "\n",
    "#Top 10 artists of all time\n",
    "artists = ['The Beatles', 'The Rolling Stones', 'Elton John', 'Mariah Carey', 'Madonna', 'Michael Jackson', 'Taylor Swift', 'Stevie Wonder', 'Whitney Houston', 'Elvis Presley', 'Drake', 'Queen']\n",
    "print(artists)\n"
   ]
  },
  {
   "cell_type": "code",
   "execution_count": 71,
   "metadata": {},
   "outputs": [],
   "source": [
    "#Reading lyrics from every artist file\n",
    "artist_files = [\"data\\\\lyrics\\\\\" + artist.casefold().replace(' ', '') + \".txt\" for artist in artists]\n",
    "artists_lyrics = [get_lyrics_from_file(artist_file) for artist_file in artist_files]\n",
    "\n",
    "#Creating data dictionary (for every artist -> lyrics)\n",
    "data = {}\n",
    "counter = 0\n",
    "for artist in artists:\n",
    "    data[artist] = artists_lyrics[counter]\n",
    "    counter+=1"
   ]
  },
  {
   "cell_type": "code",
   "execution_count": 72,
   "metadata": {},
   "outputs": [
    {
     "data": {
      "text/plain": [
       "dict_keys(['The Beatles', 'The Rolling Stones', 'Elton John', 'Mariah Carey', 'Madonna', 'Michael Jackson', 'Taylor Swift', 'Stevie Wonder', 'Whitney Houston', 'Elvis Presley', 'Drake', 'Queen'])"
      ]
     },
     "execution_count": 72,
     "metadata": {},
     "output_type": "execute_result"
    }
   ],
   "source": [
    "data.keys()"
   ]
  },
  {
   "cell_type": "markdown",
   "metadata": {},
   "source": [
    "Data cleaning"
   ]
  },
  {
   "cell_type": "code",
   "execution_count": 73,
   "metadata": {},
   "outputs": [],
   "source": [
    "def combine_text(text):\n",
    "    combined_text = ''.join(text)\n",
    "    return combined_text"
   ]
  },
  {
   "cell_type": "code",
   "execution_count": 74,
   "metadata": {},
   "outputs": [],
   "source": [
    "data_combined = {key: [combine_text(value)] for (key, value) in data.items()}"
   ]
  },
  {
   "cell_type": "code",
   "execution_count": 75,
   "metadata": {
    "scrolled": true
   },
   "outputs": [
    {
     "data": {
      "text/html": [
       "<div>\n",
       "<style scoped>\n",
       "    .dataframe tbody tr th:only-of-type {\n",
       "        vertical-align: middle;\n",
       "    }\n",
       "\n",
       "    .dataframe tbody tr th {\n",
       "        vertical-align: top;\n",
       "    }\n",
       "\n",
       "    .dataframe thead th {\n",
       "        text-align: right;\n",
       "    }\n",
       "</style>\n",
       "<table border=\"1\" class=\"dataframe\">\n",
       "  <thead>\n",
       "    <tr style=\"text-align: right;\">\n",
       "      <th></th>\n",
       "      <th>lyrics</th>\n",
       "      <th>artist_name</th>\n",
       "    </tr>\n",
       "  </thead>\n",
       "  <tbody>\n",
       "    <tr>\n",
       "      <td>The Beatles</td>\n",
       "      <td>It was twenty years ago today\\nSergeant Pepper taught the band to play,\\nThey've been going in and out of style,\\nBut they're guaranteed to raise ...</td>\n",
       "      <td>The Beatles</td>\n",
       "    </tr>\n",
       "    <tr>\n",
       "      <td>The Rolling Stones</td>\n",
       "      <td>Oh yeah\\nI hear you talking\\nWhen I'm on the street\\nYour mouth don't move\\nBut I can hear you speak\\nWhat's the matter with the boy?\\nHe don't co...</td>\n",
       "      <td>The Rolling Stones</td>\n",
       "    </tr>\n",
       "    <tr>\n",
       "      <td>Elton John</td>\n",
       "      <td>The roses in the window box\\nHave tilted to one side\\nEverything about this house\\nWas born to grow and die\\nOh it doesn't seem a year ago\\nTo thi...</td>\n",
       "      <td>Elton John</td>\n",
       "    </tr>\n",
       "    <tr>\n",
       "      <td>Mariah Carey</td>\n",
       "      <td>Oh, now you can have me\\nWhen you want me\\nYou simply ask me to be there\\nAnd you're the only one\\nWho makes me come running\\n'Cause what you got\\...</td>\n",
       "      <td>Mariah Carey</td>\n",
       "    </tr>\n",
       "    <tr>\n",
       "      <td>Madonna</td>\n",
       "      <td>Life is a mystery, everyone must stand alone\\nI hear you call my name\\nAnd it feels like home\\nWhen you call my name it's like a little prayer\\nI'...</td>\n",
       "      <td>Madonna</td>\n",
       "    </tr>\n",
       "    <tr>\n",
       "      <td>Michael Jackson</td>\n",
       "      <td>I said you wanna be startin' somethin'\\nYou got to be startin' somethin'\\nI said you wanna be startin' somethin'\\nYou got to be startin' somethin'...</td>\n",
       "      <td>Michael Jackson</td>\n",
       "    </tr>\n",
       "    <tr>\n",
       "      <td>Taylor Swift</td>\n",
       "      <td>There's somethin' bout the way\\nThe street looks when it's just rained\\nThere's a glow off the pavement\\nWalk me to the car\\nAnd you know I wanna ...</td>\n",
       "      <td>Taylor Swift</td>\n",
       "    </tr>\n",
       "    <tr>\n",
       "      <td>Stevie Wonder</td>\n",
       "      <td>Spoken by SW:\\n\"When you say that you kill in the\\nname of God or in the name of Allah,\\nyou are truly cursing God, for that is not of God.\\nWhen ...</td>\n",
       "      <td>Stevie Wonder</td>\n",
       "    </tr>\n",
       "    <tr>\n",
       "      <td>Whitney Houston</td>\n",
       "      <td>I found out what I've been missing\\nAlways on the run\\nI've been looking for someone\\nNow you're here like you've been before\\nAnd you know just w...</td>\n",
       "      <td>Whitney Houston</td>\n",
       "    </tr>\n",
       "    <tr>\n",
       "      <td>Elvis Presley</td>\n",
       "      <td>Well, it's one for the money,\\nTwo for the show,\\nThree to get ready,\\nNow go, cat, go.\\n\\nBut don't you step on my blue suede shoes.\\nYou can do ...</td>\n",
       "      <td>Elvis Presley</td>\n",
       "    </tr>\n",
       "    <tr>\n",
       "      <td>Drake</td>\n",
       "      <td>How I'm feeling, it doesn't matter\\n'Cause you know I'm okay\\nInstead, I ask myself \"why do you hurt me?\"\\nWhen you know, you know I'm the same\\nI...</td>\n",
       "      <td>Drake</td>\n",
       "    </tr>\n",
       "    <tr>\n",
       "      <td>Queen</td>\n",
       "      <td>\"You suck my blood like a leech\\nYou break the law and you preach\\nScrew my brain till it hurts\\nYou've taken all my money\\nAnd you want more\\nMis...</td>\n",
       "      <td>Queen</td>\n",
       "    </tr>\n",
       "  </tbody>\n",
       "</table>\n",
       "</div>"
      ],
      "text/plain": [
       "                                                                                                                                                                   lyrics  \\\n",
       "The Beatles         It was twenty years ago today\\nSergeant Pepper taught the band to play,\\nThey've been going in and out of style,\\nBut they're guaranteed to raise ...   \n",
       "The Rolling Stones  Oh yeah\\nI hear you talking\\nWhen I'm on the street\\nYour mouth don't move\\nBut I can hear you speak\\nWhat's the matter with the boy?\\nHe don't co...   \n",
       "Elton John          The roses in the window box\\nHave tilted to one side\\nEverything about this house\\nWas born to grow and die\\nOh it doesn't seem a year ago\\nTo thi...   \n",
       "Mariah Carey        Oh, now you can have me\\nWhen you want me\\nYou simply ask me to be there\\nAnd you're the only one\\nWho makes me come running\\n'Cause what you got\\...   \n",
       "Madonna             Life is a mystery, everyone must stand alone\\nI hear you call my name\\nAnd it feels like home\\nWhen you call my name it's like a little prayer\\nI'...   \n",
       "Michael Jackson     I said you wanna be startin' somethin'\\nYou got to be startin' somethin'\\nI said you wanna be startin' somethin'\\nYou got to be startin' somethin'...   \n",
       "Taylor Swift        There's somethin' bout the way\\nThe street looks when it's just rained\\nThere's a glow off the pavement\\nWalk me to the car\\nAnd you know I wanna ...   \n",
       "Stevie Wonder       Spoken by SW:\\n\"When you say that you kill in the\\nname of God or in the name of Allah,\\nyou are truly cursing God, for that is not of God.\\nWhen ...   \n",
       "Whitney Houston     I found out what I've been missing\\nAlways on the run\\nI've been looking for someone\\nNow you're here like you've been before\\nAnd you know just w...   \n",
       "Elvis Presley       Well, it's one for the money,\\nTwo for the show,\\nThree to get ready,\\nNow go, cat, go.\\n\\nBut don't you step on my blue suede shoes.\\nYou can do ...   \n",
       "Drake               How I'm feeling, it doesn't matter\\n'Cause you know I'm okay\\nInstead, I ask myself \"why do you hurt me?\"\\nWhen you know, you know I'm the same\\nI...   \n",
       "Queen               \"You suck my blood like a leech\\nYou break the law and you preach\\nScrew my brain till it hurts\\nYou've taken all my money\\nAnd you want more\\nMis...   \n",
       "\n",
       "                           artist_name  \n",
       "The Beatles                The Beatles  \n",
       "The Rolling Stones  The Rolling Stones  \n",
       "Elton John                  Elton John  \n",
       "Mariah Carey              Mariah Carey  \n",
       "Madonna                        Madonna  \n",
       "Michael Jackson        Michael Jackson  \n",
       "Taylor Swift              Taylor Swift  \n",
       "Stevie Wonder            Stevie Wonder  \n",
       "Whitney Houston        Whitney Houston  \n",
       "Elvis Presley            Elvis Presley  \n",
       "Drake                            Drake  \n",
       "Queen                            Queen  "
      ]
     },
     "execution_count": 75,
     "metadata": {},
     "output_type": "execute_result"
    }
   ],
   "source": [
    "pd.set_option('max_colwidth',150)\n",
    "\n",
    "data_df = pd.DataFrame.from_dict(data_combined).transpose()\n",
    "data_df.columns = ['lyrics']\n",
    "data_df['artist_name'] = artists\n",
    "data_df"
   ]
  },
  {
   "cell_type": "code",
   "execution_count": 76,
   "metadata": {},
   "outputs": [],
   "source": [
    "import re\n",
    "import string\n",
    "\n",
    "def clean_text(text):\n",
    "    '''Make text lowercase, remove text in square brackets, remove punctuation and remove words containing numbers.'''\n",
    "    text = text.lower()\n",
    "    text = re.sub('\\[.*?\\]', '', text)\n",
    "    text = re.sub('[%s]' % re.escape(string.punctuation), '', text)\n",
    "    text = re.sub('\\w*\\d\\w*', '', text)\n",
    "    text = re.sub('\\'', '', text)\n",
    "    text = re.sub('\\\\n', ' ', text)\n",
    "    text = re.sub('\\*', ' ', text)\n",
    "    text = re.sub('-', ' ', text)\n",
    "    text = re.sub('\\(', '', text)\n",
    "    text = re.sub('\\)', '', text)\n",
    "    return text\n",
    "\n",
    "cleaned_text = lambda x: clean_text(x)"
   ]
  },
  {
   "cell_type": "code",
   "execution_count": 77,
   "metadata": {},
   "outputs": [],
   "source": [
    "def get_wordnet_pos(word):\n",
    "    \"\"\"Map POS tag to first character lemmatize() accepts\"\"\"\n",
    "    tag = nltk.pos_tag([word])[0][1][0].upper()\n",
    "    tag_dict = {\"J\": wordnet.ADJ,\n",
    "                \"N\": wordnet.NOUN,\n",
    "                \"V\": wordnet.VERB,\n",
    "                \"R\": wordnet.ADV}\n",
    "    return tag_dict.get(tag, wordnet.NOUN)\n"
   ]
  },
  {
   "cell_type": "code",
   "execution_count": null,
   "metadata": {},
   "outputs": [],
   "source": [
    "import nltk\n",
    "from nltk.stem import WordNetLemmatizer\n",
    "\n",
    "\n",
    "lemmatizer = WordNetLemmatizer()\n",
    "\n",
    "data_clean = pd.DataFrame(data_df.lyrics.apply(cleaned_text))\n",
    "data_clean.columns = ['lyrics']\n",
    "data_clean['artist_name'] = artists\n",
    "data_clean.to_pickle('data_clean_NL.pkl')\n",
    "\n",
    "dict_clean = {}\n",
    "for i, j in data_clean.iterrows(): \n",
    "    dict_clean[i] = [' '.join(lemmatizer.lemmatize(w, get_wordnet_pos(w)) for w in nltk.word_tokenize(j.lyrics))]\n",
    "   "
   ]
  },
  {
   "cell_type": "code",
   "execution_count": null,
   "metadata": {
    "scrolled": true
   },
   "outputs": [],
   "source": [
    "data_clean = pd.DataFrame.from_dict(dict_clean).transpose()\n",
    "data_clean.columns = ['lyrics']\n",
    "data_clean['artist_name'] = artists\n",
    "data_clean"
   ]
  },
  {
   "cell_type": "code",
   "execution_count": 68,
   "metadata": {},
   "outputs": [],
   "source": [
    "data_clean.to_pickle(\"corpus.pkl\")"
   ]
  },
  {
   "cell_type": "code",
   "execution_count": 69,
   "metadata": {},
   "outputs": [
    {
     "data": {
      "text/html": [
       "<div>\n",
       "<style scoped>\n",
       "    .dataframe tbody tr th:only-of-type {\n",
       "        vertical-align: middle;\n",
       "    }\n",
       "\n",
       "    .dataframe tbody tr th {\n",
       "        vertical-align: top;\n",
       "    }\n",
       "\n",
       "    .dataframe thead th {\n",
       "        text-align: right;\n",
       "    }\n",
       "</style>\n",
       "<table border=\"1\" class=\"dataframe\">\n",
       "  <thead>\n",
       "    <tr style=\"text-align: right;\">\n",
       "      <th></th>\n",
       "      <th>The Beatles</th>\n",
       "      <th>The Rolling Stones</th>\n",
       "      <th>Elton John</th>\n",
       "      <th>Mariah Carey</th>\n",
       "      <th>Madonna</th>\n",
       "      <th>Michael Jackson</th>\n",
       "      <th>Taylor Swift</th>\n",
       "      <th>Stevie Wonder</th>\n",
       "      <th>Whitney Houston</th>\n",
       "      <th>Elvis Presley</th>\n",
       "      <th>Drake</th>\n",
       "      <th>Queen</th>\n",
       "    </tr>\n",
       "  </thead>\n",
       "  <tbody>\n",
       "    <tr>\n",
       "      <td>aaron</td>\n",
       "      <td>0</td>\n",
       "      <td>0</td>\n",
       "      <td>0</td>\n",
       "      <td>0</td>\n",
       "      <td>0</td>\n",
       "      <td>0</td>\n",
       "      <td>0</td>\n",
       "      <td>0</td>\n",
       "      <td>0</td>\n",
       "      <td>0</td>\n",
       "      <td>1</td>\n",
       "      <td>0</td>\n",
       "    </tr>\n",
       "    <tr>\n",
       "      <td>abandonedly</td>\n",
       "      <td>0</td>\n",
       "      <td>0</td>\n",
       "      <td>0</td>\n",
       "      <td>4</td>\n",
       "      <td>0</td>\n",
       "      <td>0</td>\n",
       "      <td>0</td>\n",
       "      <td>0</td>\n",
       "      <td>0</td>\n",
       "      <td>0</td>\n",
       "      <td>0</td>\n",
       "      <td>0</td>\n",
       "    </tr>\n",
       "    <tr>\n",
       "      <td>abel</td>\n",
       "      <td>0</td>\n",
       "      <td>0</td>\n",
       "      <td>3</td>\n",
       "      <td>0</td>\n",
       "      <td>0</td>\n",
       "      <td>0</td>\n",
       "      <td>0</td>\n",
       "      <td>0</td>\n",
       "      <td>0</td>\n",
       "      <td>0</td>\n",
       "      <td>0</td>\n",
       "      <td>0</td>\n",
       "    </tr>\n",
       "    <tr>\n",
       "      <td>abigail</td>\n",
       "      <td>0</td>\n",
       "      <td>0</td>\n",
       "      <td>0</td>\n",
       "      <td>0</td>\n",
       "      <td>0</td>\n",
       "      <td>0</td>\n",
       "      <td>2</td>\n",
       "      <td>0</td>\n",
       "      <td>0</td>\n",
       "      <td>0</td>\n",
       "      <td>0</td>\n",
       "      <td>0</td>\n",
       "    </tr>\n",
       "    <tr>\n",
       "      <td>able</td>\n",
       "      <td>0</td>\n",
       "      <td>0</td>\n",
       "      <td>0</td>\n",
       "      <td>1</td>\n",
       "      <td>1</td>\n",
       "      <td>0</td>\n",
       "      <td>0</td>\n",
       "      <td>2</td>\n",
       "      <td>0</td>\n",
       "      <td>0</td>\n",
       "      <td>0</td>\n",
       "      <td>1</td>\n",
       "    </tr>\n",
       "  </tbody>\n",
       "</table>\n",
       "</div>"
      ],
      "text/plain": [
       "             The Beatles  The Rolling Stones  Elton John  Mariah Carey  \\\n",
       "aaron                  0                   0           0             0   \n",
       "abandonedly            0                   0           0             4   \n",
       "abel                   0                   0           3             0   \n",
       "abigail                0                   0           0             0   \n",
       "able                   0                   0           0             1   \n",
       "\n",
       "             Madonna  Michael Jackson  Taylor Swift  Stevie Wonder  \\\n",
       "aaron              0                0             0              0   \n",
       "abandonedly        0                0             0              0   \n",
       "abel               0                0             0              0   \n",
       "abigail            0                0             2              0   \n",
       "able               1                0             0              2   \n",
       "\n",
       "             Whitney Houston  Elvis Presley  Drake  Queen  \n",
       "aaron                      0              0      1      0  \n",
       "abandonedly                0              0      0      0  \n",
       "abel                       0              0      0      0  \n",
       "abigail                    0              0      0      0  \n",
       "able                       0              0      0      1  "
      ]
     },
     "execution_count": 69,
     "metadata": {},
     "output_type": "execute_result"
    }
   ],
   "source": [
    "from sklearn.feature_extraction import text \n",
    "from sklearn.feature_extraction.text import CountVectorizer\n",
    "\n",
    "new_stop_words = ['aaah', 'aah', 'aaow', 'laa', 'ooh', 'ba', 'do', 'dodo', 'just', 'dont', 'gonna', 'bit', 'oh', 'im', 'like', 'little', 'cause', 'way',\n",
    "                 'youre', 'youll', 'yeah', 'make', 'dont', 'wanna', 'na', 'somethin', 'something',\n",
    "                 'know', 'ill', 'ive', 'thats', 'youve', 'shes', 'aint', 'la', 'getting', 'got', 'theyve']\n",
    "\n",
    "stop_words = text.ENGLISH_STOP_WORDS.union(new_stop_words)\n",
    "\n",
    "cv = CountVectorizer(stop_words=stop_words)\n",
    "\n",
    "data_cv = cv.fit_transform(data_clean.lyrics)\n",
    "data_dtm = pd.DataFrame(data_cv.toarray(), columns=cv.get_feature_names())\n",
    "data_dtm.index = data_clean.index\n",
    "data_dtm\n",
    "\n",
    "data_dtm.to_pickle(\"dtm.pkl\")\n",
    "data_clean.to_pickle('data_clean.pkl')\n",
    "pickle.dump(cv, open(\"cv.pkl\", \"wb\"))\n",
    "\n",
    "data = pd.read_pickle('dtm.pkl')\n",
    "data = data.transpose()\n",
    "data.head()\n"
   ]
  },
  {
   "cell_type": "code",
   "execution_count": null,
   "metadata": {},
   "outputs": [],
   "source": []
  }
 ],
 "metadata": {
  "kernelspec": {
   "display_name": "Python 3",
   "language": "python",
   "name": "python3"
  },
  "language_info": {
   "codemirror_mode": {
    "name": "ipython",
    "version": 3
   },
   "file_extension": ".py",
   "mimetype": "text/x-python",
   "name": "python",
   "nbconvert_exporter": "python",
   "pygments_lexer": "ipython3",
   "version": "3.7.4"
  }
 },
 "nbformat": 4,
 "nbformat_minor": 2
}
